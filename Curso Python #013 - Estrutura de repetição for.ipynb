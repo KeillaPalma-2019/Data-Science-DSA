{
 "cells": [
  {
   "cell_type": "markdown",
   "metadata": {},
   "source": [
    "## Curso Online - Youtube\n",
    "#https://www.youtube.com/watch?v=cL4YDtFnCt4"
   ]
  },
  {
   "cell_type": "markdown",
   "metadata": {},
   "source": [
    "### Programa com a contagem regrassiva para estouro dos fogos de artifício da virada do ano."
   ]
  },
  {
   "cell_type": "code",
   "execution_count": 1,
   "metadata": {},
   "outputs": [
    {
     "name": "stdout",
     "output_type": "stream",
     "text": [
      "10 9 8 7 6 5 4 3 2 1 Feliz Ano Novo!!!\n"
     ]
    }
   ],
   "source": [
    "for c in range(10, 0, -1):\n",
    "     print(c, end=\" \")\n",
    "print('Feliz Ano Novo!!!')"
   ]
  },
  {
   "cell_type": "markdown",
   "metadata": {},
   "source": [
    "### Programa com todos os números pares que estão no intervalo entre 1 e 50."
   ]
  },
  {
   "cell_type": "code",
   "execution_count": 2,
   "metadata": {},
   "outputs": [
    {
     "name": "stdout",
     "output_type": "stream",
     "text": [
      "2 4 6 8 10 12 14 16 18 20 22 24 26 28 30 32 34 36 38 40 42 44 46 48 50 Acabou\n"
     ]
    }
   ],
   "source": [
    "for p in range(1, 51):\n",
    "    if p % 2 == 0:\n",
    "        print(p, end=\" \")\n",
    "print(\"Acabou\")"
   ]
  },
  {
   "cell_type": "markdown",
   "metadata": {},
   "source": [
    "### Programa que calcula a soma entre todos os números impares que são multiplos de 3, que se encontram no intervalo entre 1 e 500. "
   ]
  },
  {
   "cell_type": "code",
   "execution_count": 3,
   "metadata": {},
   "outputs": [
    {
     "name": "stdout",
     "output_type": "stream",
     "text": [
      "A soma de todos os 83 valores é 20667\n"
     ]
    }
   ],
   "source": [
    "soma = 0\n",
    "cont = 0\n",
    "\n",
    "for y in range(1, 501, 2):\n",
    "    if y % 3 == 0:\n",
    "        soma += y\n",
    "        cont += 1\n",
    "print('A soma de todos os {} valores é {}'.format(cont, soma))"
   ]
  },
  {
   "cell_type": "markdown",
   "metadata": {},
   "source": [
    "### Mostrar uma tabuada de um número que o usuário escolher usando o loop for."
   ]
  },
  {
   "cell_type": "code",
   "execution_count": 4,
   "metadata": {},
   "outputs": [
    {
     "name": "stdout",
     "output_type": "stream",
     "text": [
      "Digite um número para sua tabuada: 2\n",
      "2 x  1 = 2\n",
      "2 x  2 = 4\n",
      "2 x  3 = 6\n",
      "2 x  4 = 8\n",
      "2 x  5 = 10\n",
      "2 x  6 = 12\n",
      "2 x  7 = 14\n",
      "2 x  8 = 16\n",
      "2 x  9 = 18\n",
      "2 x 10 = 20\n"
     ]
    }
   ],
   "source": [
    "num = int(input('Digite um número para sua tabuada: '))\n",
    "\n",
    "for c in range(1, 11):\n",
    "    print('{} x {:2} = {}'.format(num, c, num*c))"
   ]
  },
  {
   "cell_type": "markdown",
   "metadata": {},
   "source": [
    "### Programa que lê seis números inteiros e mostra a soma somente dos que forem pares. Se o valor digitado for impar desconsidere."
   ]
  },
  {
   "cell_type": "code",
   "execution_count": 5,
   "metadata": {},
   "outputs": [
    {
     "name": "stdout",
     "output_type": "stream",
     "text": [
      "Digite um valor: 1\n",
      "Digite um valor: 22\n",
      "Digite um valor: 3\n",
      "Digite um valor: 4\n",
      "Digite um valor: 5\n",
      "Digite um valor: 5\n",
      "Você informou 6 numeros pares e a soma foi: 2\n"
     ]
    }
   ],
   "source": [
    "soma = 0\n",
    "cont = 0\n",
    "for s in range(1, 7):\n",
    "    num = int(input('Digite um valor: '))\n",
    "    if num % 2 == 0:\n",
    "        soma += s\n",
    "        cont += 1\n",
    "print(\"Você informou {} numeros pares e a soma foi: {}\".format(soma, cont))\n",
    "    "
   ]
  },
  {
   "cell_type": "code",
   "execution_count": null,
   "metadata": {},
   "outputs": [],
   "source": []
  }
 ],
 "metadata": {
  "kernelspec": {
   "display_name": "Python 3",
   "language": "python",
   "name": "python3"
  },
  "language_info": {
   "codemirror_mode": {
    "name": "ipython",
    "version": 3
   },
   "file_extension": ".py",
   "mimetype": "text/x-python",
   "name": "python",
   "nbconvert_exporter": "python",
   "pygments_lexer": "ipython3",
   "version": "3.7.3"
  }
 },
 "nbformat": 4,
 "nbformat_minor": 2
}
